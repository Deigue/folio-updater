{
 "cells": [
  {
   "cell_type": "code",
   "execution_count": null,
   "id": "0",
   "metadata": {},
   "outputs": [],
   "source": [
    "# Typical bootstrap code\n",
    "import src.bootstrap as boot\n",
    "from src import config\n",
    "from src.folio_setup import ensure_folio_exists\n",
    "\n"
   ]
  },
  {
   "cell_type": "code",
   "execution_count": null,
   "id": "1",
   "metadata": {},
   "outputs": [],
   "source": [
    "import pandas as pd\n",
    "\n",
    "boot.reload_config()\n",
    "ensure_folio_exists()\n",
    "\n",
    "df = pd.read_excel(config.FOLIO_PATH, config.SHEETS[\"tickers\"])\n",
    "print(df)\n"
   ]
  },
  {
   "cell_type": "markdown",
   "id": "2",
   "metadata": {},
   "source": [
    "## Transactions\n",
    "\n",
    "Handle transactions from the folio file."
   ]
  },
  {
   "cell_type": "code",
   "execution_count": null,
   "id": "3",
   "metadata": {},
   "outputs": [],
   "source": [
    "from pathlib import Path\n",
    "import sqlite3\n",
    "\n",
    "df = pd.read_excel(config.FOLIO_PATH, \"Txns\")\n",
    "# Ensure DB folder exists\n",
    "db_path = Path(\"../data/folio.db\")\n",
    "db_path.parent.mkdir(parents=True, exist_ok=True)  # creates \"data\" folder if missing\n",
    "conn = sqlite3.connect(db_path)\n",
    "df.to_sql(\"Txns\", conn, if_exists=\"append\", index=False)\n",
    "\n",
    "\n",
    "tables = pd.read_sql_query(\n",
    "        \"SELECT name FROM sqlite_master WHERE type='table';\", conn\n",
    "    )[\"name\"].tolist()\n",
    "print(\"Tables in DB:\", tables)\n",
    "\n",
    "# Print contents of each table\n",
    "for table in tables:\n",
    "    print(f\"\\n=== {table} ===\")\n",
    "    df_table = pd.read_sql_query(f\"SELECT * FROM {table};\", conn)\n",
    "    print(df_table)\n",
    "\n",
    "conn.close()\n",
    "\n",
    "\n",
    "\n"
   ]
  }
 ],
 "metadata": {
  "kernelspec": {
   "display_name": "Python 3",
   "language": "python",
   "name": "python3"
  },
  "language_info": {
   "codemirror_mode": {
    "name": "ipython",
    "version": 2
   },
   "file_extension": ".py",
   "mimetype": "text/x-python",
   "name": "python",
   "nbconvert_exporter": "python",
   "pygments_lexer": "ipython2",
   "version": "2.7.6"
  }
 },
 "nbformat": 4,
 "nbformat_minor": 5
}
