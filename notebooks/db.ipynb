{
 "cells": [
  {
   "cell_type": "markdown",
   "id": "0",
   "metadata": {},
   "source": [
    "# SQLite DB Testing"
   ]
  },
  {
   "cell_type": "code",
   "execution_count": null,
   "id": "1",
   "metadata": {},
   "outputs": [],
   "source": [
    "# Bootstrapping\n",
    "import logging\n",
    "from pathlib import Path\n",
    "\n",
    "from app.bootstrap import reload_config\n",
    "\n",
    "config = reload_config()\n",
    "db_path: Path = config.db_path\n",
    "logger = logging.getLogger(\"db.ipynb\")"
   ]
  },
  {
   "cell_type": "markdown",
   "id": "2",
   "metadata": {},
   "source": [
    "## Delete Existing DB"
   ]
  },
  {
   "cell_type": "code",
   "execution_count": null,
   "id": "3",
   "metadata": {},
   "outputs": [],
   "source": [
    "delete: bool = False  # Set to True to delete existing DB\n",
    "if db_path.exists() and delete:\n",
    "    db_path.unlink()"
   ]
  },
  {
   "cell_type": "markdown",
   "id": "4",
   "metadata": {},
   "source": [
    "## Import Transactions"
   ]
  },
  {
   "cell_type": "code",
   "execution_count": null,
   "id": "5",
   "metadata": {},
   "outputs": [],
   "source": [
    "from importers.excel_importer import import_transactions\n",
    "\n",
    "txns = import_transactions(config.folio_path)\n",
    "logger.info(\"Imported %s transactions.\", txns)"
   ]
  },
  {
   "cell_type": "markdown",
   "id": "6",
   "metadata": {},
   "source": [
    "## Read folio.db"
   ]
  },
  {
   "cell_type": "code",
   "execution_count": null,
   "id": "7",
   "metadata": {},
   "outputs": [],
   "source": [
    "from db.db import get_connection, get_rows, get_tables\n",
    "\n",
    "with get_connection() as conn:\n",
    "    tables = get_tables(conn)\n",
    "    print(\"Tables in DB:\", tables)\n",
    "\n",
    "    for table in tables:\n",
    "        print(f\"\\n=== {table} ===\")\n",
    "        table_df = get_rows(conn, table)\n",
    "        print(table_df)"
   ]
  }
 ],
 "metadata": {
  "kernelspec": {
   "display_name": ".venv",
   "language": "python",
   "name": "python3"
  },
  "language_info": {
   "codemirror_mode": {
    "name": "ipython",
    "version": 3
   },
   "file_extension": ".py",
   "mimetype": "text/x-python",
   "name": "python",
   "nbconvert_exporter": "python",
   "pygments_lexer": "ipython3",
   "version": "3.13.5"
  }
 },
 "nbformat": 4,
 "nbformat_minor": 5
}
