{
 "cells": [
  {
   "cell_type": "markdown",
   "id": "0",
   "metadata": {},
   "source": [
    "# SQLite DB Testing"
   ]
  },
  {
   "cell_type": "markdown",
   "id": "1",
   "metadata": {},
   "source": [
    "## Delete Existing DB"
   ]
  },
  {
   "cell_type": "code",
   "execution_count": null,
   "id": "2",
   "metadata": {},
   "outputs": [],
   "source": [
    "import logging\n",
    "from pathlib import Path\n",
    "\n",
    "from app.bootstrap import reload_config\n",
    "\n",
    "config = reload_config()\n",
    "delete: bool = True  # Set to True to delete existing DB\n",
    "db_path: Path = config.db_path\n",
    "if db_path.exists() and delete:\n",
    "    db_path.unlink()\n",
    "logging.shutdown()"
   ]
  },
  {
   "cell_type": "markdown",
   "id": "3",
   "metadata": {},
   "source": [
    "## Read folio.db"
   ]
  },
  {
   "cell_type": "code",
   "execution_count": null,
   "id": "4",
   "metadata": {},
   "outputs": [],
   "source": [
    "import sqlite3\n",
    "\n",
    "from db.db import get_connection, get_rows, get_tables\n",
    "\n",
    "try:\n",
    "    with get_connection() as conn:\n",
    "        tables = get_tables(conn)\n",
    "        print(\"Tables in DB:\", tables)\n",
    "\n",
    "        for table in tables:\n",
    "            print(f\"\\n=== {table} ===\")\n",
    "            table_df = get_rows(conn, table)\n",
    "            print(table_df)\n",
    "except sqlite3.OperationalError:\n",
    "    print(\"Database does not exist.\")"
   ]
  },
  {
   "cell_type": "markdown",
   "id": "5",
   "metadata": {},
   "source": [
    "## Export Full DB"
   ]
  },
  {
   "cell_type": "code",
   "execution_count": null,
   "id": "6",
   "metadata": {},
   "outputs": [],
   "source": [
    "import logging\n",
    "\n",
    "from exporters.transaction_exporter import TransactionExporter\n",
    "\n",
    "txn_exporter = TransactionExporter()\n",
    "txn_exporter.export_full()\n",
    "logging.shutdown()"
   ]
  },
  {
   "cell_type": "markdown",
   "id": "7",
   "metadata": {},
   "source": [
    "## Export updates from DB"
   ]
  },
  {
   "cell_type": "code",
   "execution_count": null,
   "id": "8",
   "metadata": {},
   "outputs": [],
   "source": [
    "import logging\n",
    "\n",
    "from exporters.transaction_exporter import TransactionExporter\n",
    "\n",
    "txn_exporter = TransactionExporter()\n",
    "txn_exporter.export_update()\n",
    "logging.shutdown()"
   ]
  }
 ],
 "metadata": {
  "kernelspec": {
   "display_name": ".venv",
   "language": "python",
   "name": "python3"
  },
  "language_info": {
   "codemirror_mode": {
    "name": "ipython",
    "version": 3
   },
   "file_extension": ".py",
   "mimetype": "text/x-python",
   "name": "python",
   "nbconvert_exporter": "python",
   "pygments_lexer": "ipython3",
   "version": "3.13.5"
  }
 },
 "nbformat": 4,
 "nbformat_minor": 5
}
