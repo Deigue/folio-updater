{
 "cells": [
  {
   "cell_type": "markdown",
   "id": "0",
   "metadata": {},
   "source": [
    "# SQLite DB Testing"
   ]
  },
  {
   "cell_type": "code",
   "execution_count": null,
   "id": "1",
   "metadata": {},
   "outputs": [],
   "source": [
    "# Typical bootstrap code\n",
    "from src import bootstrap,config,folio_setup"
   ]
  },
  {
   "cell_type": "markdown",
   "id": "2",
   "metadata": {},
   "source": [
    "## Delete Existing DB"
   ]
  },
  {
   "cell_type": "code",
   "execution_count": null,
   "id": "3",
   "metadata": {},
   "outputs": [],
   "source": [
    "# Cleanup previous test DB\n",
    "import os\n",
    "db_path = \"../data/folio.db\"\n",
    "if os.path.exists(db_path):\n",
    "    os.remove(db_path)"
   ]
  },
  {
   "cell_type": "markdown",
   "id": "4",
   "metadata": {},
   "source": [
    "## Load Transactions"
   ]
  },
  {
   "cell_type": "code",
   "execution_count": null,
   "id": "5",
   "metadata": {},
   "outputs": [],
   "source": [
    "from pathlib import Path\n",
    "import sqlite3\n",
    "import pandas as pd\n",
    "\n",
    "df = pd.read_excel(config.FOLIO_PATH, \"Txns\")\n",
    "# Ensure DB folder exists\n",
    "db_path = Path(\"../data/folio.db\")\n",
    "db_path.parent.mkdir(parents=True, exist_ok=True)  # creates \"data\" folder if missing\n",
    "conn = sqlite3.connect(db_path)\n",
    "df.to_sql(\"Txns\", conn, if_exists=\"append\", index=False)\n",
    "\n",
    "\n",
    "tables = pd.read_sql_query(\n",
    "        \"SELECT name FROM sqlite_master WHERE type='table';\", conn\n",
    "    )[\"name\"].tolist()\n",
    "print(\"Tables in DB:\", tables)\n",
    "\n",
    "# Print contents of each table\n",
    "for table in tables:\n",
    "    print(f\"\\n=== {table} ===\")\n",
    "    df_table = pd.read_sql_query(f\"SELECT * FROM {table};\", conn)\n",
    "    print(df_table)\n",
    "\n",
    "conn.close()\n"
   ]
  }
 ],
 "metadata": {
  "kernelspec": {
   "display_name": "Python 3",
   "language": "python",
   "name": "python3"
  },
  "language_info": {
   "codemirror_mode": {
    "name": "ipython",
    "version": 2
   },
   "file_extension": ".py",
   "mimetype": "text/x-python",
   "name": "python",
   "nbconvert_exporter": "python",
   "pygments_lexer": "ipython2",
   "version": "2.7.6"
  }
 },
 "nbformat": 4,
 "nbformat_minor": 5
}
