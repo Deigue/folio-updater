{
 "cells": [
  {
   "cell_type": "markdown",
   "id": "0",
   "metadata": {},
   "source": [
    "## Create Default Folio"
   ]
  },
  {
   "cell_type": "code",
   "execution_count": null,
   "id": "1",
   "metadata": {},
   "outputs": [],
   "source": [
    "# Bootstrapping\n",
    "import pandas as pd\n",
    "\n",
    "from app.bootstrap import reload_config\n",
    "from mock.folio_setup import ensure_folio_exists\n",
    "\n",
    "config = reload_config()\n",
    "ensure_folio_exists()"
   ]
  },
  {
   "cell_type": "markdown",
   "id": "2",
   "metadata": {},
   "source": [
    "## List Tickers"
   ]
  },
  {
   "cell_type": "code",
   "execution_count": null,
   "id": "3",
   "metadata": {},
   "outputs": [],
   "source": [
    "df = pd.read_excel(config.folio_path, config.tickers_sheet())\n",
    "print(df)\n"
   ]
  },
  {
   "cell_type": "markdown",
   "id": "4",
   "metadata": {},
   "source": [
    "## Read Folio Transactions"
   ]
  },
  {
   "cell_type": "code",
   "execution_count": null,
   "id": "5",
   "metadata": {},
   "outputs": [],
   "source": [
    "txns = pd.read_excel(config.folio_path, config.transactions_sheet())\n",
    "print(txns)"
   ]
  },
  {
   "cell_type": "markdown",
   "id": "6",
   "metadata": {},
   "source": [
    "## Nuke Local Data Directory"
   ]
  },
  {
   "cell_type": "code",
   "execution_count": null,
   "id": "7",
   "metadata": {},
   "outputs": [],
   "source": [
    "import shutil\n",
    "\n",
    "data_dir = config.project_root / \"data\"\n",
    "\n",
    "# Check if the directory exists\n",
    "if data_dir.exists():\n",
    "    try:\n",
    "        # Use shutil.rmtree to delete the directory and its contents\n",
    "        shutil.rmtree(data_dir)\n",
    "        print(f\"Deleted directory: {data_dir}\")\n",
    "    except PermissionError as e:\n",
    "        print(f\"Permission denied: {e}\")\n",
    "    except FileNotFoundError as e:\n",
    "        print(f\"Directory not found: {e}\")\n",
    "else:\n",
    "    print(f\"Directory does not exist: {data_dir}\")"
   ]
  }
 ],
 "metadata": {
  "kernelspec": {
   "display_name": ".venv",
   "language": "python",
   "name": "python3"
  },
  "language_info": {
   "codemirror_mode": {
    "name": "ipython",
    "version": 3
   },
   "file_extension": ".py",
   "mimetype": "text/x-python",
   "name": "python",
   "nbconvert_exporter": "python",
   "pygments_lexer": "ipython3",
   "version": "3.13.5"
  }
 },
 "nbformat": 4,
 "nbformat_minor": 5
}
