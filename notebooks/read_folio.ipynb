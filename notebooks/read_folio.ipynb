{
 "cells": [
  {
   "cell_type": "markdown",
   "id": "0",
   "metadata": {},
   "source": [
    "## Create Default Folio"
   ]
  },
  {
   "cell_type": "code",
   "execution_count": null,
   "id": "1",
   "metadata": {},
   "outputs": [],
   "source": [
    "# Bootstrapping\n",
    "import logging\n",
    "\n",
    "import pandas as pd\n",
    "\n",
    "from app.bootstrap import reload_config\n",
    "from mock.folio_setup import ensure_folio_exists\n",
    "\n",
    "config = reload_config()\n",
    "ensure_folio_exists()\n",
    "logging.shutdown()"
   ]
  },
  {
   "cell_type": "markdown",
   "id": "2",
   "metadata": {},
   "source": [
    "## Read Folio Tickers"
   ]
  },
  {
   "cell_type": "code",
   "execution_count": null,
   "id": "3",
   "metadata": {},
   "outputs": [],
   "source": [
    "import logging\n",
    "\n",
    "import pandas as pd\n",
    "\n",
    "from app.bootstrap import reload_config\n",
    "\n",
    "config = reload_config()\n",
    "df = pd.read_excel(config.folio_path, config.tickers_sheet())\n",
    "print(df)\n",
    "logging.shutdown()"
   ]
  },
  {
   "cell_type": "markdown",
   "id": "4",
   "metadata": {},
   "source": [
    "## Read Folio Transactions"
   ]
  },
  {
   "cell_type": "code",
   "execution_count": null,
   "id": "5",
   "metadata": {},
   "outputs": [],
   "source": [
    "import logging\n",
    "\n",
    "import pandas as pd\n",
    "\n",
    "from app.bootstrap import reload_config\n",
    "\n",
    "pd.set_option(\"display.max_columns\", None)\n",
    "pd.set_option(\"display.width\", 200)\n",
    "pd.set_option(\"display.max_colwidth\", None)\n",
    "config = reload_config()\n",
    "txns = pd.read_excel(config.folio_path, config.transactions_sheet())\n",
    "print(txns)\n",
    "logging.shutdown"
   ]
  },
  {
   "cell_type": "markdown",
   "id": "6",
   "metadata": {},
   "source": [
    "## Read Folio FX Rates"
   ]
  },
  {
   "cell_type": "code",
   "execution_count": null,
   "id": "7",
   "metadata": {},
   "outputs": [],
   "source": [
    "import pandas as pd\n",
    "import logging\n",
    "from app.bootstrap import reload_config\n",
    "\n",
    "pd.set_option(\"display.max_columns\", None)\n",
    "pd.set_option(\"display.width\", 200)\n",
    "pd.set_option(\"display.max_colwidth\", None)\n",
    "config = reload_config()\n",
    "fx = pd.read_excel(config.folio_path, config.forex_sheet())\n",
    "print(fx)\n",
    "logging.shutdown()"
   ]
  },
  {
   "cell_type": "markdown",
   "id": "8",
   "metadata": {},
   "source": [
    "## Nuke Local Data Directory"
   ]
  },
  {
   "cell_type": "code",
   "execution_count": null,
   "id": "9",
   "metadata": {},
   "outputs": [],
   "source": [
    "import logging\n",
    "import shutil\n",
    "\n",
    "from app.bootstrap import reload_config\n",
    "\n",
    "config = reload_config()\n",
    "data_dir = config.project_root / \"data\"\n",
    "delete: bool = True  # Set to True to delete existing data directory\n",
    "# Check if the directory exists\n",
    "if data_dir.exists():\n",
    "    if delete:\n",
    "        try:\n",
    "            # Use shutil.rmtree to delete the directory and its contents\n",
    "            shutil.rmtree(data_dir)\n",
    "            print(f\"Deleted directory: {data_dir}\")\n",
    "        except PermissionError as e:\n",
    "            print(f\"Permission denied: {e}\")\n",
    "        except FileNotFoundError as e:\n",
    "            print(f\"Directory not found: {e}\")\n",
    "else:\n",
    "    print(f\"Directory does not exist: {data_dir}\")\n",
    "\n",
    "logging.shutdown()"
   ]
  }
 ],
 "metadata": {
  "kernelspec": {
   "display_name": ".venv",
   "language": "python",
   "name": "python3"
  },
  "language_info": {
   "codemirror_mode": {
    "name": "ipython",
    "version": 3
   },
   "file_extension": ".py",
   "mimetype": "text/x-python",
   "name": "python",
   "nbconvert_exporter": "python",
   "pygments_lexer": "ipython3",
   "version": "3.13.5"
  }
 },
 "nbformat": 4,
 "nbformat_minor": 5
}
